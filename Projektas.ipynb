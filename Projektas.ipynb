{
 "cells": [
  {
   "cell_type": "markdown",
   "metadata": {},
   "source": [
    "# Subjektų nustatymas"
   ]
  },
  {
   "cell_type": "markdown",
   "metadata": {},
   "source": [
    "### 1. "
   ]
  },
  {
   "cell_type": "code",
   "execution_count": 54,
   "metadata": {},
   "outputs": [],
   "source": [
    "import spacy\n",
    "from spacy import displacy\n",
    "import tabulate\n",
    "\n",
    "nlp = spacy.load('en_core_web_sm')\n",
    "\n",
    "data = []\n",
    "\n",
    "text1 = 'The ball python (Python regius), also called the royal python, is a python species native to West and Central Africa, where it lives in grasslands, shrublands and open forests. This nonvenomous constrictor is the smallest of the African pythons, growing to a maximum length of 182 cm (72 in). The name ball python refers to its tendency to curl into a ball when stressed or frightened.'\n",
    "text2 = 'The best-selling vinyl album of the year so far is AM by Arctic Monkeys, although topping the chart right now is Nothing Has Changed by David Bowie. Pink Floyd\\'s album The Endless River -- the band\\'s first in 20 years -- has also been one of the year\\'s big vinyl success stories. In its first week, 6,000 copies were purchase -- the highest number of any album released since 1997. That officially makes it the fastest-selling vinyl album this century.'\n",
    "text3 = 'SCP-633\\'s containment chamber, located in Site-77, is an underground Faraday cage. Access is restricted to Level 3/633 personnel. The network controlled by SCP-633 is to be communicated with through an Apple Macintosh 520kb computer. In addition, three Apple II+ computers with Disc II 5 1/4 floppy disc drives are to be given a monthly software rotation. As the original usable software library of the machines has been completely used as of 21/2/2014, new software is being developed by internal development teams.'\n",
    "text4 = 'Hello listeners. To start things off, I’ve been asked to read to read this brief notice. The City Council announces the opening of a new dog park at the corner of Earl and Summerset, near the Ralphs. They would like to remind everyone that dogs are not allowed in the dog park. People are not allowed in the dog park. It is possible you will see hooded figures in the dog park. Do not approach them. Do not approach the dog park. The fence is electrified and highly dangerous. Try not to look at the dog park and especially do not look for any period of time at the hooded figures. The dog park will not harm you.'\n",
    "text5 = 'The sun didn’t set at the correct time today, Carlos and his team of scientists report. They are quite certain about it, they checked multiple clocks, and the sun definitely set ten minutes later than it was supposed to. I asked them if they had any explanations, but they did not offer anything concrete. Mostly, they sat in a circle around a desk clock, staring at it, murmuring and cooing. Still, we must be grateful to have the sun at all. It’s easy to forget in this hot, hot, hot desert climate, but things would actually be slightly harder for us without the sun. The next time the sun rises, whatever time that turns out to be, take a moment to feel grateful for all the warmth and light and, even, yes, extreme heat that our desert community is gifted with.'"
   ]
  },
  {
   "cell_type": "code",
   "execution_count": 55,
   "metadata": {},
   "outputs": [
    {
     "data": {
      "text/html": [
       "<span class=\"tex2jax_ignore\"><div class=\"entities\" style=\"line-height: 2.5; direction: ltr\">The ball python (Python regius), also called the royal python, is a python species native to \n",
       "<mark class=\"entity\" style=\"background: #ff9561; padding: 0.45em 0.6em; margin: 0 0.25em; line-height: 1; border-radius: 0.35em;\">\n",
       "    West\n",
       "    <span style=\"font-size: 0.8em; font-weight: bold; line-height: 1; border-radius: 0.35em; vertical-align: middle; margin-left: 0.5rem\">LOC</span>\n",
       "</mark>\n",
       " and \n",
       "<mark class=\"entity\" style=\"background: #feca74; padding: 0.45em 0.6em; margin: 0 0.25em; line-height: 1; border-radius: 0.35em;\">\n",
       "    Central Africa\n",
       "    <span style=\"font-size: 0.8em; font-weight: bold; line-height: 1; border-radius: 0.35em; vertical-align: middle; margin-left: 0.5rem\">GPE</span>\n",
       "</mark>\n",
       ", where it lives in grasslands, shrublands and open forests. This nonvenomous constrictor is the smallest of the \n",
       "<mark class=\"entity\" style=\"background: #c887fb; padding: 0.45em 0.6em; margin: 0 0.25em; line-height: 1; border-radius: 0.35em;\">\n",
       "    African\n",
       "    <span style=\"font-size: 0.8em; font-weight: bold; line-height: 1; border-radius: 0.35em; vertical-align: middle; margin-left: 0.5rem\">NORP</span>\n",
       "</mark>\n",
       " pythons, growing to a maximum length of \n",
       "<mark class=\"entity\" style=\"background: #e4e7d2; padding: 0.45em 0.6em; margin: 0 0.25em; line-height: 1; border-radius: 0.35em;\">\n",
       "    182 cm\n",
       "    <span style=\"font-size: 0.8em; font-weight: bold; line-height: 1; border-radius: 0.35em; vertical-align: middle; margin-left: 0.5rem\">QUANTITY</span>\n",
       "</mark>\n",
       " (\n",
       "<mark class=\"entity\" style=\"background: #e4e7d2; padding: 0.45em 0.6em; margin: 0 0.25em; line-height: 1; border-radius: 0.35em;\">\n",
       "    72\n",
       "    <span style=\"font-size: 0.8em; font-weight: bold; line-height: 1; border-radius: 0.35em; vertical-align: middle; margin-left: 0.5rem\">CARDINAL</span>\n",
       "</mark>\n",
       " in). The name ball python refers to its tendency to curl into a ball when stressed or frightened.</div></span>"
      ],
      "text/plain": [
       "<IPython.core.display.HTML object>"
      ]
     },
     "metadata": {},
     "output_type": "display_data"
    },
    {
     "data": {
      "text/html": [
       "<table>\n",
       "<thead>\n",
       "<tr><th>Word          </th><th>Label   </th><th>Explanation                                        </th></tr>\n",
       "</thead>\n",
       "<tbody>\n",
       "<tr><td>West          </td><td>LOC     </td><td>Non-GPE locations, mountain ranges, bodies of water</td></tr>\n",
       "<tr><td>Central Africa</td><td>GPE     </td><td>Countries, cities, states                          </td></tr>\n",
       "<tr><td>African       </td><td>NORP    </td><td>Nationalities or religious or political groups     </td></tr>\n",
       "<tr><td>182 cm        </td><td>QUANTITY</td><td>Measurements, as of weight or distance             </td></tr>\n",
       "<tr><td>72            </td><td>CARDINAL</td><td>Numerals that do not fall under another type       </td></tr>\n",
       "</tbody>\n",
       "</table>"
      ],
      "text/plain": [
       "'<table>\\n<thead>\\n<tr><th>Word          </th><th>Label   </th><th>Explanation                                        </th></tr>\\n</thead>\\n<tbody>\\n<tr><td>West          </td><td>LOC     </td><td>Non-GPE locations, mountain ranges, bodies of water</td></tr>\\n<tr><td>Central Africa</td><td>GPE     </td><td>Countries, cities, states                          </td></tr>\\n<tr><td>African       </td><td>NORP    </td><td>Nationalities or religious or political groups     </td></tr>\\n<tr><td>182 cm        </td><td>QUANTITY</td><td>Measurements, as of weight or distance             </td></tr>\\n<tr><td>72            </td><td>CARDINAL</td><td>Numerals that do not fall under another type       </td></tr>\\n</tbody>\\n</table>'"
      ]
     },
     "execution_count": 55,
     "metadata": {},
     "output_type": "execute_result"
    }
   ],
   "source": [
    "tokens = nlp(text1)\n",
    "\n",
    "data = []\n",
    "\n",
    "for word in tokens.ents:\n",
    "    dataset = word.text, word.label_, spacy.explain(word.label_)\n",
    "    data.append(dataset)\n",
    "\n",
    "displacy.render(tokens, style = 'ent', jupyter = True)\n",
    "\n",
    "table = tabulate.tabulate(data, tablefmt='html', headers = ['Word', 'Label', 'Explanation'])\n",
    "table"
   ]
  },
  {
   "cell_type": "code",
   "execution_count": 37,
   "metadata": {},
   "outputs": [
    {
     "data": {
      "text/html": [
       "<span class=\"tex2jax_ignore\"><div class=\"entities\" style=\"line-height: 2.5; direction: ltr\">The best-selling vinyl album of \n",
       "<mark class=\"entity\" style=\"background: #bfe1d9; padding: 0.45em 0.6em; margin: 0 0.25em; line-height: 1; border-radius: 0.35em;\">\n",
       "    the year\n",
       "    <span style=\"font-size: 0.8em; font-weight: bold; line-height: 1; border-radius: 0.35em; vertical-align: middle; margin-left: 0.5rem\">DATE</span>\n",
       "</mark>\n",
       " so far is AM by \n",
       "<mark class=\"entity\" style=\"background: #7aecec; padding: 0.45em 0.6em; margin: 0 0.25em; line-height: 1; border-radius: 0.35em;\">\n",
       "    Arctic Monkeys\n",
       "    <span style=\"font-size: 0.8em; font-weight: bold; line-height: 1; border-radius: 0.35em; vertical-align: middle; margin-left: 0.5rem\">ORG</span>\n",
       "</mark>\n",
       ", although topping the chart right now is Nothing Has Changed by \n",
       "<mark class=\"entity\" style=\"background: #aa9cfc; padding: 0.45em 0.6em; margin: 0 0.25em; line-height: 1; border-radius: 0.35em;\">\n",
       "    David Bowie\n",
       "    <span style=\"font-size: 0.8em; font-weight: bold; line-height: 1; border-radius: 0.35em; vertical-align: middle; margin-left: 0.5rem\">PERSON</span>\n",
       "</mark>\n",
       ". Pink Floyd's album \n",
       "<mark class=\"entity\" style=\"background: #ff9561; padding: 0.45em 0.6em; margin: 0 0.25em; line-height: 1; border-radius: 0.35em;\">\n",
       "    The Endless River\n",
       "    <span style=\"font-size: 0.8em; font-weight: bold; line-height: 1; border-radius: 0.35em; vertical-align: middle; margin-left: 0.5rem\">LOC</span>\n",
       "</mark>\n",
       " -- the band's \n",
       "<mark class=\"entity\" style=\"background: #e4e7d2; padding: 0.45em 0.6em; margin: 0 0.25em; line-height: 1; border-radius: 0.35em;\">\n",
       "    first\n",
       "    <span style=\"font-size: 0.8em; font-weight: bold; line-height: 1; border-radius: 0.35em; vertical-align: middle; margin-left: 0.5rem\">ORDINAL</span>\n",
       "</mark>\n",
       " in \n",
       "<mark class=\"entity\" style=\"background: #bfe1d9; padding: 0.45em 0.6em; margin: 0 0.25em; line-height: 1; border-radius: 0.35em;\">\n",
       "    20 years\n",
       "    <span style=\"font-size: 0.8em; font-weight: bold; line-height: 1; border-radius: 0.35em; vertical-align: middle; margin-left: 0.5rem\">DATE</span>\n",
       "</mark>\n",
       " -- has also been one of the \n",
       "<mark class=\"entity\" style=\"background: #bfe1d9; padding: 0.45em 0.6em; margin: 0 0.25em; line-height: 1; border-radius: 0.35em;\">\n",
       "    year\n",
       "    <span style=\"font-size: 0.8em; font-weight: bold; line-height: 1; border-radius: 0.35em; vertical-align: middle; margin-left: 0.5rem\">DATE</span>\n",
       "</mark>\n",
       "'s big vinyl success stories. In \n",
       "<mark class=\"entity\" style=\"background: #bfe1d9; padding: 0.45em 0.6em; margin: 0 0.25em; line-height: 1; border-radius: 0.35em;\">\n",
       "    its first week\n",
       "    <span style=\"font-size: 0.8em; font-weight: bold; line-height: 1; border-radius: 0.35em; vertical-align: middle; margin-left: 0.5rem\">DATE</span>\n",
       "</mark>\n",
       ", \n",
       "<mark class=\"entity\" style=\"background: #e4e7d2; padding: 0.45em 0.6em; margin: 0 0.25em; line-height: 1; border-radius: 0.35em;\">\n",
       "    6,000\n",
       "    <span style=\"font-size: 0.8em; font-weight: bold; line-height: 1; border-radius: 0.35em; vertical-align: middle; margin-left: 0.5rem\">CARDINAL</span>\n",
       "</mark>\n",
       " copies were purchase -- the highest number of any album released since \n",
       "<mark class=\"entity\" style=\"background: #bfe1d9; padding: 0.45em 0.6em; margin: 0 0.25em; line-height: 1; border-radius: 0.35em;\">\n",
       "    1997\n",
       "    <span style=\"font-size: 0.8em; font-weight: bold; line-height: 1; border-radius: 0.35em; vertical-align: middle; margin-left: 0.5rem\">DATE</span>\n",
       "</mark>\n",
       ". That officially makes it the fastest-selling vinyl album \n",
       "<mark class=\"entity\" style=\"background: #bfe1d9; padding: 0.45em 0.6em; margin: 0 0.25em; line-height: 1; border-radius: 0.35em;\">\n",
       "    this century\n",
       "    <span style=\"font-size: 0.8em; font-weight: bold; line-height: 1; border-radius: 0.35em; vertical-align: middle; margin-left: 0.5rem\">DATE</span>\n",
       "</mark>\n",
       ".</div></span>"
      ],
      "text/plain": [
       "<IPython.core.display.HTML object>"
      ]
     },
     "metadata": {},
     "output_type": "display_data"
    },
    {
     "data": {
      "text/html": [
       "<table>\n",
       "<thead>\n",
       "<tr><th>Word             </th><th>Label   </th><th>Explanation                                        </th></tr>\n",
       "</thead>\n",
       "<tbody>\n",
       "<tr><td>the year         </td><td>DATE    </td><td>Absolute or relative dates or periods              </td></tr>\n",
       "<tr><td>Arctic Monkeys   </td><td>ORG     </td><td>Companies, agencies, institutions, etc.            </td></tr>\n",
       "<tr><td>David Bowie      </td><td>PERSON  </td><td>People, including fictional                        </td></tr>\n",
       "<tr><td>The Endless River</td><td>LOC     </td><td>Non-GPE locations, mountain ranges, bodies of water</td></tr>\n",
       "<tr><td>first            </td><td>ORDINAL </td><td>&quot;first&quot;, &quot;second&quot;, etc.                            </td></tr>\n",
       "<tr><td>20 years         </td><td>DATE    </td><td>Absolute or relative dates or periods              </td></tr>\n",
       "<tr><td>year             </td><td>DATE    </td><td>Absolute or relative dates or periods              </td></tr>\n",
       "<tr><td>its first week   </td><td>DATE    </td><td>Absolute or relative dates or periods              </td></tr>\n",
       "<tr><td>6,000            </td><td>CARDINAL</td><td>Numerals that do not fall under another type       </td></tr>\n",
       "<tr><td>1997             </td><td>DATE    </td><td>Absolute or relative dates or periods              </td></tr>\n",
       "<tr><td>this century     </td><td>DATE    </td><td>Absolute or relative dates or periods              </td></tr>\n",
       "</tbody>\n",
       "</table>"
      ],
      "text/plain": [
       "'<table>\\n<thead>\\n<tr><th>Word             </th><th>Label   </th><th>Explanation                                        </th></tr>\\n</thead>\\n<tbody>\\n<tr><td>the year         </td><td>DATE    </td><td>Absolute or relative dates or periods              </td></tr>\\n<tr><td>Arctic Monkeys   </td><td>ORG     </td><td>Companies, agencies, institutions, etc.            </td></tr>\\n<tr><td>David Bowie      </td><td>PERSON  </td><td>People, including fictional                        </td></tr>\\n<tr><td>The Endless River</td><td>LOC     </td><td>Non-GPE locations, mountain ranges, bodies of water</td></tr>\\n<tr><td>first            </td><td>ORDINAL </td><td>&quot;first&quot;, &quot;second&quot;, etc.                            </td></tr>\\n<tr><td>20 years         </td><td>DATE    </td><td>Absolute or relative dates or periods              </td></tr>\\n<tr><td>year             </td><td>DATE    </td><td>Absolute or relative dates or periods              </td></tr>\\n<tr><td>its first week   </td><td>DATE    </td><td>Absolute or relative dates or periods              </td></tr>\\n<tr><td>6,000            </td><td>CARDINAL</td><td>Numerals that do not fall under another type       </td></tr>\\n<tr><td>1997             </td><td>DATE    </td><td>Absolute or relative dates or periods              </td></tr>\\n<tr><td>this century     </td><td>DATE    </td><td>Absolute or relative dates or periods              </td></tr>\\n</tbody>\\n</table>'"
      ]
     },
     "execution_count": 37,
     "metadata": {},
     "output_type": "execute_result"
    }
   ],
   "source": [
    "tokens = nlp(text2)\n",
    "\n",
    "data = []\n",
    "\n",
    "for word in tokens.ents:\n",
    "    dataset = word.text, word.label_, spacy.explain(word.label_)\n",
    "    data.append(dataset)\n",
    "\n",
    "displacy.render(tokens, style = 'ent', jupyter = True)\n",
    "\n",
    "table = tabulate.tabulate(data, tablefmt='html', headers = ['Word', 'Label', 'Explanation'])\n",
    "table"
   ]
  },
  {
   "cell_type": "code",
   "execution_count": 38,
   "metadata": {},
   "outputs": [
    {
     "data": {
      "text/html": [
       "<span class=\"tex2jax_ignore\"><div class=\"entities\" style=\"line-height: 2.5; direction: ltr\">SCP-633's containment chamber, located in Site-77, is an underground \n",
       "<mark class=\"entity\" style=\"background: #bfe1d9; padding: 0.45em 0.6em; margin: 0 0.25em; line-height: 1; border-radius: 0.35em;\">\n",
       "    Faraday\n",
       "    <span style=\"font-size: 0.8em; font-weight: bold; line-height: 1; border-radius: 0.35em; vertical-align: middle; margin-left: 0.5rem\">DATE</span>\n",
       "</mark>\n",
       " cage. Access is restricted to Level \n",
       "<mark class=\"entity\" style=\"background: #e4e7d2; padding: 0.45em 0.6em; margin: 0 0.25em; line-height: 1; border-radius: 0.35em;\">\n",
       "    3/633\n",
       "    <span style=\"font-size: 0.8em; font-weight: bold; line-height: 1; border-radius: 0.35em; vertical-align: middle; margin-left: 0.5rem\">CARDINAL</span>\n",
       "</mark>\n",
       " personnel. The network controlled by SCP-633 is to be communicated with through an \n",
       "<mark class=\"entity\" style=\"background: #7aecec; padding: 0.45em 0.6em; margin: 0 0.25em; line-height: 1; border-radius: 0.35em;\">\n",
       "    Apple\n",
       "    <span style=\"font-size: 0.8em; font-weight: bold; line-height: 1; border-radius: 0.35em; vertical-align: middle; margin-left: 0.5rem\">ORG</span>\n",
       "</mark>\n",
       " Macintosh \n",
       "<mark class=\"entity\" style=\"background: #e4e7d2; padding: 0.45em 0.6em; margin: 0 0.25em; line-height: 1; border-radius: 0.35em;\">\n",
       "    520\n",
       "    <span style=\"font-size: 0.8em; font-weight: bold; line-height: 1; border-radius: 0.35em; vertical-align: middle; margin-left: 0.5rem\">CARDINAL</span>\n",
       "</mark>\n",
       "kb computer. In addition, \n",
       "<mark class=\"entity\" style=\"background: #e4e7d2; padding: 0.45em 0.6em; margin: 0 0.25em; line-height: 1; border-radius: 0.35em;\">\n",
       "    three\n",
       "    <span style=\"font-size: 0.8em; font-weight: bold; line-height: 1; border-radius: 0.35em; vertical-align: middle; margin-left: 0.5rem\">CARDINAL</span>\n",
       "</mark>\n",
       " \n",
       "<mark class=\"entity\" style=\"background: #7aecec; padding: 0.45em 0.6em; margin: 0 0.25em; line-height: 1; border-radius: 0.35em;\">\n",
       "    Apple\n",
       "    <span style=\"font-size: 0.8em; font-weight: bold; line-height: 1; border-radius: 0.35em; vertical-align: middle; margin-left: 0.5rem\">ORG</span>\n",
       "</mark>\n",
       " II+ computers with \n",
       "<mark class=\"entity\" style=\"background: #aa9cfc; padding: 0.45em 0.6em; margin: 0 0.25em; line-height: 1; border-radius: 0.35em;\">\n",
       "    Disc II\n",
       "    <span style=\"font-size: 0.8em; font-weight: bold; line-height: 1; border-radius: 0.35em; vertical-align: middle; margin-left: 0.5rem\">PERSON</span>\n",
       "</mark>\n",
       " \n",
       "<mark class=\"entity\" style=\"background: #e4e7d2; padding: 0.45em 0.6em; margin: 0 0.25em; line-height: 1; border-radius: 0.35em;\">\n",
       "    5 1/4\n",
       "    <span style=\"font-size: 0.8em; font-weight: bold; line-height: 1; border-radius: 0.35em; vertical-align: middle; margin-left: 0.5rem\">CARDINAL</span>\n",
       "</mark>\n",
       " floppy disc drives are to be given a \n",
       "<mark class=\"entity\" style=\"background: #bfe1d9; padding: 0.45em 0.6em; margin: 0 0.25em; line-height: 1; border-radius: 0.35em;\">\n",
       "    monthly\n",
       "    <span style=\"font-size: 0.8em; font-weight: bold; line-height: 1; border-radius: 0.35em; vertical-align: middle; margin-left: 0.5rem\">DATE</span>\n",
       "</mark>\n",
       " software rotation. As the original usable software library of the machines has been completely used as of \n",
       "<mark class=\"entity\" style=\"background: #bfe1d9; padding: 0.45em 0.6em; margin: 0 0.25em; line-height: 1; border-radius: 0.35em;\">\n",
       "    21/2/2014\n",
       "    <span style=\"font-size: 0.8em; font-weight: bold; line-height: 1; border-radius: 0.35em; vertical-align: middle; margin-left: 0.5rem\">DATE</span>\n",
       "</mark>\n",
       ", new software is being developed by internal development teams.</div></span>"
      ],
      "text/plain": [
       "<IPython.core.display.HTML object>"
      ]
     },
     "metadata": {},
     "output_type": "display_data"
    },
    {
     "data": {
      "text/html": [
       "<table>\n",
       "<thead>\n",
       "<tr><th>Word     </th><th>Label   </th><th>Explanation                                 </th></tr>\n",
       "</thead>\n",
       "<tbody>\n",
       "<tr><td>Faraday  </td><td>DATE    </td><td>Absolute or relative dates or periods       </td></tr>\n",
       "<tr><td>3/633    </td><td>CARDINAL</td><td>Numerals that do not fall under another type</td></tr>\n",
       "<tr><td>Apple    </td><td>ORG     </td><td>Companies, agencies, institutions, etc.     </td></tr>\n",
       "<tr><td>520      </td><td>CARDINAL</td><td>Numerals that do not fall under another type</td></tr>\n",
       "<tr><td>three    </td><td>CARDINAL</td><td>Numerals that do not fall under another type</td></tr>\n",
       "<tr><td>Apple    </td><td>ORG     </td><td>Companies, agencies, institutions, etc.     </td></tr>\n",
       "<tr><td>Disc II  </td><td>PERSON  </td><td>People, including fictional                 </td></tr>\n",
       "<tr><td>5 1/4    </td><td>CARDINAL</td><td>Numerals that do not fall under another type</td></tr>\n",
       "<tr><td>monthly  </td><td>DATE    </td><td>Absolute or relative dates or periods       </td></tr>\n",
       "<tr><td>21/2/2014</td><td>DATE    </td><td>Absolute or relative dates or periods       </td></tr>\n",
       "</tbody>\n",
       "</table>"
      ],
      "text/plain": [
       "'<table>\\n<thead>\\n<tr><th>Word     </th><th>Label   </th><th>Explanation                                 </th></tr>\\n</thead>\\n<tbody>\\n<tr><td>Faraday  </td><td>DATE    </td><td>Absolute or relative dates or periods       </td></tr>\\n<tr><td>3/633    </td><td>CARDINAL</td><td>Numerals that do not fall under another type</td></tr>\\n<tr><td>Apple    </td><td>ORG     </td><td>Companies, agencies, institutions, etc.     </td></tr>\\n<tr><td>520      </td><td>CARDINAL</td><td>Numerals that do not fall under another type</td></tr>\\n<tr><td>three    </td><td>CARDINAL</td><td>Numerals that do not fall under another type</td></tr>\\n<tr><td>Apple    </td><td>ORG     </td><td>Companies, agencies, institutions, etc.     </td></tr>\\n<tr><td>Disc II  </td><td>PERSON  </td><td>People, including fictional                 </td></tr>\\n<tr><td>5 1/4    </td><td>CARDINAL</td><td>Numerals that do not fall under another type</td></tr>\\n<tr><td>monthly  </td><td>DATE    </td><td>Absolute or relative dates or periods       </td></tr>\\n<tr><td>21/2/2014</td><td>DATE    </td><td>Absolute or relative dates or periods       </td></tr>\\n</tbody>\\n</table>'"
      ]
     },
     "execution_count": 38,
     "metadata": {},
     "output_type": "execute_result"
    }
   ],
   "source": [
    "tokens = nlp(text3)\n",
    "\n",
    "data = []\n",
    "\n",
    "for word in tokens.ents:\n",
    "    dataset = word.text, word.label_, spacy.explain(word.label_)\n",
    "    data.append(dataset)\n",
    "\n",
    "displacy.render(tokens, style = 'ent', jupyter = True)\n",
    "\n",
    "table = tabulate.tabulate(data, tablefmt='html', headers = ['Word', 'Label', 'Explanation'])\n",
    "table"
   ]
  },
  {
   "cell_type": "code",
   "execution_count": 51,
   "metadata": {},
   "outputs": [
    {
     "data": {
      "text/html": [
       "<span class=\"tex2jax_ignore\"><div class=\"entities\" style=\"line-height: 2.5; direction: ltr\">Hello listeners. To start things off, I’ve been asked to read to read this brief notice. \n",
       "<mark class=\"entity\" style=\"background: #7aecec; padding: 0.45em 0.6em; margin: 0 0.25em; line-height: 1; border-radius: 0.35em;\">\n",
       "    The City Council\n",
       "    <span style=\"font-size: 0.8em; font-weight: bold; line-height: 1; border-radius: 0.35em; vertical-align: middle; margin-left: 0.5rem\">ORG</span>\n",
       "</mark>\n",
       " announces the opening of a new dog park at the corner of \n",
       "<mark class=\"entity\" style=\"background: #feca74; padding: 0.45em 0.6em; margin: 0 0.25em; line-height: 1; border-radius: 0.35em;\">\n",
       "    Earl\n",
       "    <span style=\"font-size: 0.8em; font-weight: bold; line-height: 1; border-radius: 0.35em; vertical-align: middle; margin-left: 0.5rem\">GPE</span>\n",
       "</mark>\n",
       " and \n",
       "<mark class=\"entity\" style=\"background: #feca74; padding: 0.45em 0.6em; margin: 0 0.25em; line-height: 1; border-radius: 0.35em;\">\n",
       "    Summerset\n",
       "    <span style=\"font-size: 0.8em; font-weight: bold; line-height: 1; border-radius: 0.35em; vertical-align: middle; margin-left: 0.5rem\">GPE</span>\n",
       "</mark>\n",
       ", near the \n",
       "<mark class=\"entity\" style=\"background: #bfeeb7; padding: 0.45em 0.6em; margin: 0 0.25em; line-height: 1; border-radius: 0.35em;\">\n",
       "    Ralphs\n",
       "    <span style=\"font-size: 0.8em; font-weight: bold; line-height: 1; border-radius: 0.35em; vertical-align: middle; margin-left: 0.5rem\">PRODUCT</span>\n",
       "</mark>\n",
       ". They would like to remind everyone that dogs are not allowed in the dog park. People are not allowed in the dog park. It is possible you will see hooded figures in the dog park. Do not approach them. Do not approach the dog park. The fence is electrified and highly dangerous. Try not to look at the dog park and especially do not look for any period of time at the hooded figures. The dog park will not harm you.</div></span>"
      ],
      "text/plain": [
       "<IPython.core.display.HTML object>"
      ]
     },
     "metadata": {},
     "output_type": "display_data"
    },
    {
     "data": {
      "text/html": [
       "<table>\n",
       "<thead>\n",
       "<tr><th>Word            </th><th>Label  </th><th>Explanation                                  </th></tr>\n",
       "</thead>\n",
       "<tbody>\n",
       "<tr><td>The City Council</td><td>ORG    </td><td>Companies, agencies, institutions, etc.      </td></tr>\n",
       "<tr><td>Earl            </td><td>GPE    </td><td>Countries, cities, states                    </td></tr>\n",
       "<tr><td>Summerset       </td><td>GPE    </td><td>Countries, cities, states                    </td></tr>\n",
       "<tr><td>Ralphs          </td><td>PRODUCT</td><td>Objects, vehicles, foods, etc. (not services)</td></tr>\n",
       "</tbody>\n",
       "</table>"
      ],
      "text/plain": [
       "'<table>\\n<thead>\\n<tr><th>Word            </th><th>Label  </th><th>Explanation                                  </th></tr>\\n</thead>\\n<tbody>\\n<tr><td>The City Council</td><td>ORG    </td><td>Companies, agencies, institutions, etc.      </td></tr>\\n<tr><td>Earl            </td><td>GPE    </td><td>Countries, cities, states                    </td></tr>\\n<tr><td>Summerset       </td><td>GPE    </td><td>Countries, cities, states                    </td></tr>\\n<tr><td>Ralphs          </td><td>PRODUCT</td><td>Objects, vehicles, foods, etc. (not services)</td></tr>\\n</tbody>\\n</table>'"
      ]
     },
     "execution_count": 51,
     "metadata": {},
     "output_type": "execute_result"
    }
   ],
   "source": [
    "tokens = nlp(text4)\n",
    "\n",
    "data = []\n",
    "\n",
    "for word in tokens.ents:\n",
    "    dataset = word.text, word.label_, spacy.explain(word.label_)\n",
    "    data.append(dataset)\n",
    "\n",
    "displacy.render(tokens, style = 'ent', jupyter = True)\n",
    "\n",
    "table = tabulate.tabulate(data, tablefmt='html', headers = ['Word', 'Label', 'Explanation'])\n",
    "table"
   ]
  },
  {
   "cell_type": "code",
   "execution_count": 53,
   "metadata": {},
   "outputs": [
    {
     "data": {
      "text/html": [
       "<span class=\"tex2jax_ignore\"><div class=\"entities\" style=\"line-height: 2.5; direction: ltr\">The sun didn’t set at the correct time \n",
       "<mark class=\"entity\" style=\"background: #bfe1d9; padding: 0.45em 0.6em; margin: 0 0.25em; line-height: 1; border-radius: 0.35em;\">\n",
       "    today\n",
       "    <span style=\"font-size: 0.8em; font-weight: bold; line-height: 1; border-radius: 0.35em; vertical-align: middle; margin-left: 0.5rem\">DATE</span>\n",
       "</mark>\n",
       ", \n",
       "<mark class=\"entity\" style=\"background: #aa9cfc; padding: 0.45em 0.6em; margin: 0 0.25em; line-height: 1; border-radius: 0.35em;\">\n",
       "    Carlos\n",
       "    <span style=\"font-size: 0.8em; font-weight: bold; line-height: 1; border-radius: 0.35em; vertical-align: middle; margin-left: 0.5rem\">PERSON</span>\n",
       "</mark>\n",
       " and his team of scientists report. They are quite certain about it, they checked multiple clocks, and the sun definitely set \n",
       "<mark class=\"entity\" style=\"background: #bfe1d9; padding: 0.45em 0.6em; margin: 0 0.25em; line-height: 1; border-radius: 0.35em;\">\n",
       "    ten minutes later\n",
       "    <span style=\"font-size: 0.8em; font-weight: bold; line-height: 1; border-radius: 0.35em; vertical-align: middle; margin-left: 0.5rem\">TIME</span>\n",
       "</mark>\n",
       " than it was supposed to. I asked them if they had any explanations, but they did not offer anything concrete. Mostly, they sat in a circle around a desk clock, staring at it, murmuring and cooing. Still, we must be grateful to have the sun at all. It’s easy to forget in this hot, hot, hot desert climate, but things would actually be slightly harder for us without the sun. The next time the sun rises, whatever time that turns out to be, take a moment to feel grateful for all the warmth and light and, even, yes, extreme heat that our desert community is gifted with.</div></span>"
      ],
      "text/plain": [
       "<IPython.core.display.HTML object>"
      ]
     },
     "metadata": {},
     "output_type": "display_data"
    },
    {
     "data": {
      "text/html": [
       "<table>\n",
       "<thead>\n",
       "<tr><th>Word             </th><th>Label  </th><th>Explanation                          </th></tr>\n",
       "</thead>\n",
       "<tbody>\n",
       "<tr><td>today            </td><td>DATE   </td><td>Absolute or relative dates or periods</td></tr>\n",
       "<tr><td>Carlos           </td><td>PERSON </td><td>People, including fictional          </td></tr>\n",
       "<tr><td>ten minutes later</td><td>TIME   </td><td>Times smaller than a day             </td></tr>\n",
       "</tbody>\n",
       "</table>"
      ],
      "text/plain": [
       "'<table>\\n<thead>\\n<tr><th>Word             </th><th>Label  </th><th>Explanation                          </th></tr>\\n</thead>\\n<tbody>\\n<tr><td>today            </td><td>DATE   </td><td>Absolute or relative dates or periods</td></tr>\\n<tr><td>Carlos           </td><td>PERSON </td><td>People, including fictional          </td></tr>\\n<tr><td>ten minutes later</td><td>TIME   </td><td>Times smaller than a day             </td></tr>\\n</tbody>\\n</table>'"
      ]
     },
     "execution_count": 53,
     "metadata": {},
     "output_type": "execute_result"
    }
   ],
   "source": [
    "tokens = nlp(text5)\n",
    "\n",
    "data = []\n",
    "\n",
    "for word in tokens.ents:\n",
    "    dataset = word.text, word.label_, spacy.explain(word.label_)\n",
    "    data.append(dataset)\n",
    "\n",
    "displacy.render(tokens, style = 'ent', jupyter = True)\n",
    "\n",
    "table = tabulate.tabulate(data, tablefmt='html', headers = ['Word', 'Label', 'Explanation'])\n",
    "table"
   ]
  },
  {
   "cell_type": "code",
   "execution_count": null,
   "metadata": {},
   "outputs": [],
   "source": []
  }
 ],
 "metadata": {
  "kernelspec": {
   "display_name": "Python 3 (ipykernel)",
   "language": "python",
   "name": "python3"
  },
  "language_info": {
   "codemirror_mode": {
    "name": "ipython",
    "version": 3
   },
   "file_extension": ".py",
   "mimetype": "text/x-python",
   "name": "python",
   "nbconvert_exporter": "python",
   "pygments_lexer": "ipython3",
   "version": "3.8.12"
  }
 },
 "nbformat": 4,
 "nbformat_minor": 2
}
